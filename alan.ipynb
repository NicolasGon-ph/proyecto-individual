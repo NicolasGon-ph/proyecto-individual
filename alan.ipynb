{
 "cells": [
  {
   "cell_type": "code",
   "execution_count": null,
   "metadata": {},
   "outputs": [],
   "source": [
    "import pandas as pd\n",
    "\n",
    "# Cargar el diccionario de datos\n",
    "diccionario_path = \"/mnt/data/Diccionario de Datos - PIMLOps.xlsx\"\n",
    "xls = pd.ExcelFile(diccionario_path)\n",
    "\n",
    "# Ver las hojas disponibles\n",
    "xls.sheet_names"
   ]
  },
  {
   "cell_type": "code",
   "execution_count": null,
   "metadata": {},
   "outputs": [],
   "source": [
    "# Cargar la hoja \"movies\" del diccionario de datos\n",
    "df_diccionario_movies = pd.read_excel(xls, sheet_name=\"movies\")\n",
    "\n",
    "# Mostrar las primeras filas para analizar la estructura\n",
    "df_diccionario_movies.head()\n"
   ]
  },
  {
   "cell_type": "code",
   "execution_count": null,
   "metadata": {},
   "outputs": [],
   "source": [
    "import numpy as np\n",
    "\n",
    "# Crear un dataset de ejemplo con la estructura adecuada\n",
    "data_movies = {\n",
    "    \"belongs_to_collection\": [\n",
    "        {\"id\": 10194, \"name\": \"Toy Story Collection\"}, \n",
    "        None, \n",
    "        {\"id\": 87118, \"name\": \"Batman Collection\"}\n",
    "    ],\n",
    "    \"budget\": [30000000, 150000000, np.nan],  # Incluye un NaN para ver su reemplazo\n",
    "    \"genres\": [\n",
    "        [{\"id\": 16, \"name\": \"Animation\"}, {\"id\": 35, \"name\": \"Comedy\"}],\n",
    "        [{\"id\": 28, \"name\": \"Action\"}, {\"id\": 12, \"name\": \"Adventure\"}],\n",
    "        [{\"id\": 878, \"name\": \"Science Fiction\"}]\n",
    "    ],\n",
    "    \"homepage\": [\"http://toystory.disney.com/toy-story\", None, None],\n",
    "    \"id\": [1, 2, 3],\n",
    "    \"imdb_id\": [\"tt0114709\", \"tt0468569\", \"tt0848228\"],\n",
    "    \"original_title\": [\"Toy Story\", \"The Dark Knight\", \"The Avengers\"],\n",
    "    \"overview\": [\n",
    "        \"A cowboy doll is profoundly threatened when a new spaceman figure supplants him as top toy in a boy's room.\",\n",
    "        \"When the menace known as the Joker emerges from his mysterious past, he wreaks havoc and chaos.\",\n",
    "        \"Earth's mightiest heroes must come together and learn to fight as a team.\"\n",
    "    ],\n",
    "    \"popularity\": [21.946943, 35.000123, 50.256789],\n",
    "    \"poster_path\": [\"/rhIRbceoE9lR4veEXuwCC2wARtG.jpg\", \"/qJ2tW6WMUDux911r6m7haRef0WH.jpg\", \"/cezWGskPY5x7GaglTTRN4Fugfb8.jpg\"],\n",
    "    \"production_companies\": [\n",
    "        [{\"id\": 3, \"name\": \"Pixar Animation Studios\"}],\n",
    "        [{\"id\": 429, \"name\": \"Warner Bros. Pictures\"}],\n",
    "        [{\"id\": 420, \"name\": \"Marvel Studios\"}]\n",
    "    ],\n",
    "    \"release_date\": [\"1995-11-22\", np.nan, \"2012-04-25\"],  # Incluye un NaN para ver su eliminación\n",
    "    \"revenue\": [373554033, 1004558444, np.nan],  # Incluye un NaN para ver su reemplazo\n",
    "    \"runtime\": [81, 152, 143],\n",
    "    \"status\": [\"Released\", \"Released\", \"Released\"],\n",
    "    \"tagline\": [\"\", \"Why So Serious?\", \"Some assembly required.\"],\n",
    "    \"title\": [\"Toy Story\", \"The Dark Knight\", \"The Avengers\"],\n",
    "    \"video\": [False, False, False],\n",
    "    \"vote_average\": [8.3, 8.4, 7.7],\n",
    "    \"vote_count\": [5415, 16789, 23456],\n",
    "}\n",
    "\n",
    "# Crear DataFrame\n",
    "df_movies = pd.DataFrame(data_movies)\n",
    "\n",
    "# Aplicar transformaciones según lo solicitado\n",
    "# 1. Desanidar algunos campos complejos\n",
    "df_movies[\"belongs_to_collection\"] = df_movies[\"belongs_to_collection\"].apply(lambda x: x[\"name\"] if isinstance(x, dict) else None)\n",
    "df_movies[\"production_companies\"] = df_movies[\"production_companies\"].apply(lambda x: \", \".join([d[\"name\"] for d in x]) if isinstance(x, list) else None)\n",
    "\n",
    "# 2. Reemplazar NaN en revenue y budget con 0\n",
    "df_movies[\"revenue\"] = df_movies[\"revenue\"].fillna(0)\n",
    "df_movies[\"budget\"] = df_movies[\"budget\"].fillna(0)\n",
    "\n",
    "# 3. Eliminar filas con release_date nulo\n",
    "df_movies = df_movies.dropna(subset=[\"release_date\"])\n",
    "\n",
    "# 4. Crear la columna release_year\n",
    "df_movies[\"release_year\"] = df_movies[\"release_date\"].str[:4].astype(int)\n",
    "\n",
    "# 5. Calcular el retorno de inversión\n",
    "df_movies[\"return\"] = df_movies.apply(lambda row: row[\"revenue\"] / row[\"budget\"] if row[\"budget\"] > 0 else 0, axis=1)\n",
    "\n",
    "# 6. Eliminar columnas no utilizadas\n",
    "df_movies = df_movies.drop(columns=[\"video\", \"imdb_id\", \"original_title\", \"poster_path\", \"homepage\"])\n",
    "\n",
    "# Mostrar el dataset transformado\n",
    "df_movies\n"
   ]
  },
  {
   "cell_type": "code",
   "execution_count": null,
   "metadata": {},
   "outputs": [],
   "source": [
    "import pandas as pd\n",
    "\n",
    "# Cargar el dataset\n",
    "df = pd.read_csv(\"movies_dataset.csv\")\n",
    "\n",
    "# Ver las primeras filas\n",
    "df.head()\n"
   ]
  },
  {
   "cell_type": "code",
   "execution_count": null,
   "metadata": {},
   "outputs": [],
   "source": [
    "df.info()\n"
   ]
  },
  {
   "cell_type": "code",
   "execution_count": null,
   "metadata": {},
   "outputs": [],
   "source": [
    "df.describe()\n",
    "\n",
    "df.describe(include=\"object\")"
   ]
  },
  {
   "cell_type": "code",
   "execution_count": null,
   "metadata": {},
   "outputs": [],
   "source": [
    "import seaborn as sns\n",
    "import matplotlib.pyplot as plt\n",
    "\n",
    "sns.histplot(df[\"revenue\"], bins=30, kde=True)\n",
    "plt.title(\"Distribución de Revenue\")\n",
    "plt.show()\n",
    "\n"
   ]
  },
  {
   "cell_type": "code",
   "execution_count": null,
   "metadata": {},
   "outputs": [],
   "source": [
    "df[\"status\"].value_counts().plot(kind=\"bar\")\n",
    "plt.title(\"Cantidad de Películas por Estado\")\n",
    "plt.show()\n"
   ]
  },
  {
   "cell_type": "code",
   "execution_count": null,
   "metadata": {},
   "outputs": [],
   "source": [
    "from collections import Counter\n",
    "import ast\n",
    "\n",
    "genres = df[\"genres\"].dropna().apply(ast.literal_eval)  # Convertir strings a listas de diccionarios\n",
    "genre_list = [g[\"name\"] for sublist in genres for g in sublist]\n",
    "genre_counts = Counter(genre_list)\n",
    "\n",
    "sns.barplot(x=list(genre_counts.keys()), y=list(genre_counts.values()))\n",
    "plt.xticks(rotation=90)\n",
    "plt.title(\"Películas por Género\")\n",
    "plt.show()\n"
   ]
  }
 ],
 "metadata": {
  "kernelspec": {
   "display_name": "proyecto",
   "language": "python",
   "name": "python3"
  },
  "language_info": {
   "codemirror_mode": {
    "name": "ipython",
    "version": 3
   },
   "file_extension": ".py",
   "mimetype": "text/x-python",
   "name": "python",
   "nbconvert_exporter": "python",
   "pygments_lexer": "ipython3",
   "version": "3.11.0"
  }
 },
 "nbformat": 4,
 "nbformat_minor": 2
}
