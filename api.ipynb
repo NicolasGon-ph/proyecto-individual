{
 "cells": [
  {
   "cell_type": "code",
   "execution_count": null,
   "metadata": {},
   "outputs": [],
   "source": [
    "from flask import Flask, jsonify, request\n",
    "\n",
    "app = Flask(__name__)\n",
    "\n",
    "# Datos de ejemplo (simulando una base de datos)\n",
    "movies = [\n",
    "    {\"id\": 1, \"title\": \"Inception\", \"director\": \"Christopher Nolan\"},\n",
    "    {\"id\": 2, \"title\": \"Interstellar\", \"director\": \"Christopher Nolan\"}\n",
    "]\n",
    "\n",
    "# Ruta para obtener todas las películas\n",
    "@app.route('/movies', methods=['GET'])\n",
    "def get_movies():\n",
    "    return jsonify(movies)\n",
    "\n",
    "# Ruta para obtener una película por ID\n",
    "@app.route('/movies/<int:movie_id>', methods=['GET'])\n",
    "def get_movie(movie_id):\n",
    "    movie = next((m for m in movies if m[\"id\"] == movie_id), None)\n",
    "    return jsonify(movie) if movie else (\"No encontrada\", 404)\n",
    "\n",
    "# Ruta para agregar una nueva película\n",
    "@app.route('/movies', methods=['POST'])\n",
    "def add_movie():\n",
    "    data = request.json\n",
    "    new_movie = {\"id\": len(movies) + 1, \"title\": data[\"title\"], \"director\": data[\"director\"]}\n",
    "    movies.append(new_movie)\n",
    "    return jsonify(new_movie), 201\n",
    "\n",
    "# Ruta para actualizar una película\n",
    "@app.route('/movies/<int:movie_id>', methods=['PUT'])\n",
    "def update_movie(movie_id):\n",
    "    movie = next((m for m in movies if m[\"id\"] == movie_id), None)\n",
    "    if movie:\n",
    "        data = request.json\n",
    "        movie.update(data)\n",
    "        return jsonify(movie)\n",
    "    return \"No encontrada\", 404\n",
    "\n",
    "# Ruta para eliminar una película\n",
    "@app.route('/movies/<int:movie_id>', methods=['DELETE'])\n",
    "def delete_movie(movie_id):\n",
    "    global movies\n",
    "    movies = [m for m in movies if m[\"id\"] != movie_id]\n",
    "    return \"Eliminado\", 204\n",
    "\n",
    "if __name__ == '__main__':\n",
    "    app.run(debug=True)\n"
   ]
  }
 ],
 "metadata": {
  "language_info": {
   "name": "python"
  }
 },
 "nbformat": 4,
 "nbformat_minor": 2
}
